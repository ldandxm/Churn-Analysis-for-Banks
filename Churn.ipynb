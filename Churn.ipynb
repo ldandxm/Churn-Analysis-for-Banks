{
 "cells": [
  {
   "cell_type": "code",
   "execution_count": 1,
   "metadata": {},
   "outputs": [],
   "source": [
    "import numpy as np\n",
    "import matplotlib.pyplot as plt\n",
    "import pandas as pd"
   ]
  },
  {
   "cell_type": "code",
   "execution_count": 2,
   "metadata": {},
   "outputs": [],
   "source": [
    "dataset = pd.read_csv('Churn_Modelling.csv')"
   ]
  },
  {
   "cell_type": "code",
   "execution_count": 3,
   "metadata": {},
   "outputs": [
    {
     "data": {
      "text/html": [
       "<div>\n",
       "<style scoped>\n",
       "    .dataframe tbody tr th:only-of-type {\n",
       "        vertical-align: middle;\n",
       "    }\n",
       "\n",
       "    .dataframe tbody tr th {\n",
       "        vertical-align: top;\n",
       "    }\n",
       "\n",
       "    .dataframe thead th {\n",
       "        text-align: right;\n",
       "    }\n",
       "</style>\n",
       "<table border=\"1\" class=\"dataframe\">\n",
       "  <thead>\n",
       "    <tr style=\"text-align: right;\">\n",
       "      <th></th>\n",
       "      <th>RowNumber</th>\n",
       "      <th>CustomerId</th>\n",
       "      <th>Surname</th>\n",
       "      <th>CreditScore</th>\n",
       "      <th>Geography</th>\n",
       "      <th>Gender</th>\n",
       "      <th>Age</th>\n",
       "      <th>Tenure</th>\n",
       "      <th>Balance</th>\n",
       "      <th>NumOfProducts</th>\n",
       "      <th>HasCrCard</th>\n",
       "      <th>IsActiveMember</th>\n",
       "      <th>EstimatedSalary</th>\n",
       "      <th>Exited</th>\n",
       "    </tr>\n",
       "  </thead>\n",
       "  <tbody>\n",
       "    <tr>\n",
       "      <th>0</th>\n",
       "      <td>1</td>\n",
       "      <td>15634602</td>\n",
       "      <td>Hargrave</td>\n",
       "      <td>619</td>\n",
       "      <td>France</td>\n",
       "      <td>Female</td>\n",
       "      <td>42</td>\n",
       "      <td>2</td>\n",
       "      <td>0.00</td>\n",
       "      <td>1</td>\n",
       "      <td>1</td>\n",
       "      <td>1</td>\n",
       "      <td>101348.88</td>\n",
       "      <td>1</td>\n",
       "    </tr>\n",
       "    <tr>\n",
       "      <th>1</th>\n",
       "      <td>2</td>\n",
       "      <td>15647311</td>\n",
       "      <td>Hill</td>\n",
       "      <td>608</td>\n",
       "      <td>Spain</td>\n",
       "      <td>Female</td>\n",
       "      <td>41</td>\n",
       "      <td>1</td>\n",
       "      <td>83807.86</td>\n",
       "      <td>1</td>\n",
       "      <td>0</td>\n",
       "      <td>1</td>\n",
       "      <td>112542.58</td>\n",
       "      <td>0</td>\n",
       "    </tr>\n",
       "    <tr>\n",
       "      <th>2</th>\n",
       "      <td>3</td>\n",
       "      <td>15619304</td>\n",
       "      <td>Onio</td>\n",
       "      <td>502</td>\n",
       "      <td>France</td>\n",
       "      <td>Female</td>\n",
       "      <td>42</td>\n",
       "      <td>8</td>\n",
       "      <td>159660.80</td>\n",
       "      <td>3</td>\n",
       "      <td>1</td>\n",
       "      <td>0</td>\n",
       "      <td>113931.57</td>\n",
       "      <td>1</td>\n",
       "    </tr>\n",
       "    <tr>\n",
       "      <th>3</th>\n",
       "      <td>4</td>\n",
       "      <td>15701354</td>\n",
       "      <td>Boni</td>\n",
       "      <td>699</td>\n",
       "      <td>France</td>\n",
       "      <td>Female</td>\n",
       "      <td>39</td>\n",
       "      <td>1</td>\n",
       "      <td>0.00</td>\n",
       "      <td>2</td>\n",
       "      <td>0</td>\n",
       "      <td>0</td>\n",
       "      <td>93826.63</td>\n",
       "      <td>0</td>\n",
       "    </tr>\n",
       "    <tr>\n",
       "      <th>4</th>\n",
       "      <td>5</td>\n",
       "      <td>15737888</td>\n",
       "      <td>Mitchell</td>\n",
       "      <td>850</td>\n",
       "      <td>Spain</td>\n",
       "      <td>Female</td>\n",
       "      <td>43</td>\n",
       "      <td>2</td>\n",
       "      <td>125510.82</td>\n",
       "      <td>1</td>\n",
       "      <td>1</td>\n",
       "      <td>1</td>\n",
       "      <td>79084.10</td>\n",
       "      <td>0</td>\n",
       "    </tr>\n",
       "  </tbody>\n",
       "</table>\n",
       "</div>"
      ],
      "text/plain": [
       "   RowNumber  CustomerId   Surname  CreditScore Geography  Gender  Age  \\\n",
       "0          1    15634602  Hargrave          619    France  Female   42   \n",
       "1          2    15647311      Hill          608     Spain  Female   41   \n",
       "2          3    15619304      Onio          502    France  Female   42   \n",
       "3          4    15701354      Boni          699    France  Female   39   \n",
       "4          5    15737888  Mitchell          850     Spain  Female   43   \n",
       "\n",
       "   Tenure    Balance  NumOfProducts  HasCrCard  IsActiveMember  \\\n",
       "0       2       0.00              1          1               1   \n",
       "1       1   83807.86              1          0               1   \n",
       "2       8  159660.80              3          1               0   \n",
       "3       1       0.00              2          0               0   \n",
       "4       2  125510.82              1          1               1   \n",
       "\n",
       "   EstimatedSalary  Exited  \n",
       "0        101348.88       1  \n",
       "1        112542.58       0  \n",
       "2        113931.57       1  \n",
       "3         93826.63       0  \n",
       "4         79084.10       0  "
      ]
     },
     "execution_count": 3,
     "metadata": {},
     "output_type": "execute_result"
    }
   ],
   "source": [
    "dataset.head()"
   ]
  },
  {
   "cell_type": "code",
   "execution_count": 4,
   "metadata": {},
   "outputs": [],
   "source": [
    "# It's obvious that RowNumebr, CustomerId, Surname are irrelevant information. So we remove them."
   ]
  },
  {
   "cell_type": "code",
   "execution_count": 17,
   "metadata": {},
   "outputs": [],
   "source": [
    "X = dataset.iloc[:, 3:13]\n",
    "y = dataset.iloc[:, 13]"
   ]
  },
  {
   "cell_type": "code",
   "execution_count": 15,
   "metadata": {},
   "outputs": [],
   "source": [
    "import seaborn as sns"
   ]
  },
  {
   "cell_type": "code",
   "execution_count": 26,
   "metadata": {},
   "outputs": [
    {
     "data": {
      "text/plain": [
       "RowNumber            int64\n",
       "CustomerId           int64\n",
       "Surname             object\n",
       "CreditScore          int64\n",
       "Geography           object\n",
       "Gender              object\n",
       "Age                  int64\n",
       "Tenure               int64\n",
       "Balance            float64\n",
       "NumOfProducts        int64\n",
       "HasCrCard            int64\n",
       "IsActiveMember       int64\n",
       "EstimatedSalary    float64\n",
       "Exited               int64\n",
       "dtype: object"
      ]
     },
     "execution_count": 26,
     "metadata": {},
     "output_type": "execute_result"
    }
   ],
   "source": [
    "dataset.dtypes"
   ]
  },
  {
   "cell_type": "code",
   "execution_count": 20,
   "metadata": {},
   "outputs": [
    {
     "data": {
      "text/plain": [
       "<matplotlib.axes._subplots.AxesSubplot at 0x1a17ccd710>"
      ]
     },
     "execution_count": 20,
     "metadata": {},
     "output_type": "execute_result"
    },
    {
     "data": {
      "image/png": "[encoded data removed]",
      "text/plain": [
       "<Figure size 432x288 with 2 Axes>"
      ]
     },
     "metadata": {},
     "output_type": "display_data"
    }
   ],
   "source": [
    "corrmat = X.corr()\n",
    "sns.heatmap(corrmat, vmax=.8, square=True)"
   ]
  },
  {
   "cell_type": "code",
   "execution_count": 21,
   "metadata": {},
   "outputs": [],
   "source": [
    "# Barely any correlation in predictors"
   ]
  },
  {
   "cell_type": "code",
   "execution_count": 22,
   "metadata": {},
   "outputs": [],
   "source": [
    "##### Data Preprocessing #####\n",
    "# Encoding catedorical data"
   ]
  },
  {
   "cell_type": "code",
   "execution_count": 23,
   "metadata": {},
   "outputs": [],
   "source": [
    "# convert dataframe to numpy array\n",
    "X = X.values\n",
    "y = y.values"
   ]
  },
  {
   "cell_type": "code",
   "execution_count": 27,
   "metadata": {},
   "outputs": [],
   "source": [
    "# Label encoding Country and Gender\n",
    "from sklearn.preprocessing import LabelEncoder, OneHotEncoder\n",
    "labelencoder_X_1 = LabelEncoder()\n",
    "X[:, 1] = labelencoder_X_1.fit_transform(X[:, 1])\n",
    "labelencoder_X_2 = LabelEncoder()\n",
    "X[:, 2] = labelencoder_X_2.fit_transform(X[:, 2])"
   ]
  },
  {
   "cell_type": "code",
   "execution_count": 30,
   "metadata": {},
   "outputs": [],
   "source": [
    "# One hot encoding on Country. No need for Gender as there are only 2 categories\n",
    "onehotencoder = OneHotEncoder(categorical_features = [1])\n",
    "X = onehotencoder.fit_transform(X).toarray()\n",
    "#  Remove 1 dummy variable\n",
    "X = X[:, 1:]"
   ]
  },
  {
   "cell_type": "code",
   "execution_count": 31,
   "metadata": {},
   "outputs": [],
   "source": [
    "# Splitting the dataset into Training set and Test set"
   ]
  },
  {
   "cell_type": "code",
   "execution_count": 32,
   "metadata": {},
   "outputs": [],
   "source": [
    "from sklearn.model_selection import train_test_split\n",
    "X_train, X_test, y_train, y_test = train_test_split(X, y, test_size = 0.2, random_state = 0)"
   ]
  },
  {
   "cell_type": "code",
   "execution_count": 33,
   "metadata": {},
   "outputs": [],
   "source": [
    "# Feature Scaling"
   ]
  },
  {
   "cell_type": "code",
   "execution_count": 34,
   "metadata": {},
   "outputs": [],
   "source": [
    "from sklearn.preprocessing import StandardScaler\n",
    "sc = StandardScaler()\n",
    "X_train = sc.fit_transform(X_train)\n",
    "X_test = sc.transform(X_test)"
   ]
  },
  {
   "cell_type": "code",
   "execution_count": 35,
   "metadata": {},
   "outputs": [],
   "source": [
    "##### Logistic Regression #####"
   ]
  },
  {
   "cell_type": "code",
   "execution_count": 40,
   "metadata": {},
   "outputs": [],
   "source": [
    "# Fitting Logistic Regression to the Training set\n",
    "from sklearn.linear_model import LogisticRegression\n",
    "classifier_logi = LogisticRegression(random_state = 0)\n",
    "classifier_logi.fit(X_train, y_train)\n",
    "\n",
    "# Predicting the Test set results\n",
    "y_pred = classifier_logi.predict(X_test)\n",
    "\n",
    "# Making the Confusion Matrix\n",
    "from sklearn.metrics import confusion_matrix\n",
    "cm_logi = confusion_matrix(y_test, y_pred)\n",
    "acc_logi = (cm_logi[0,0] + cm_logi[1,1]) / len(y_test)"
   ]
  },
  {
   "cell_type": "code",
   "execution_count": 41,
   "metadata": {},
   "outputs": [
    {
     "data": {
      "text/plain": [
       "0.811"
      ]
     },
     "execution_count": 41,
     "metadata": {},
     "output_type": "execute_result"
    }
   ],
   "source": [
    "acc_logi"
   ]
  },
  {
   "cell_type": "code",
   "execution_count": 42,
   "metadata": {},
   "outputs": [],
   "source": [
    "# Cross Validation"
   ]
  },
  {
   "cell_type": "code",
   "execution_count": 43,
   "metadata": {},
   "outputs": [],
   "source": [
    "from sklearn.model_selection import cross_val_score"
   ]
  },
  {
   "cell_type": "code",
   "execution_count": 68,
   "metadata": {},
   "outputs": [],
   "source": [
    "accuracies_logi = cross_val_score(estimator = classifier_logi, X = X_train, y = y_train, cv = 10, scoring = 'accuracy')"
   ]
  },
  {
   "cell_type": "code",
   "execution_count": 69,
   "metadata": {},
   "outputs": [],
   "source": [
    "acc_mean_logi = accuracies_logi.mean()\n",
    "acc_var_logi = accuracies_logi.std()"
   ]
  },
  {
   "cell_type": "code",
   "execution_count": 70,
   "metadata": {},
   "outputs": [
    {
     "data": {
      "text/plain": [
       "0.8083747220698783"
      ]
     },
     "execution_count": 70,
     "metadata": {},
     "output_type": "execute_result"
    }
   ],
   "source": [
    "acc_mean_logi"
   ]
  },
  {
   "cell_type": "code",
   "execution_count": 71,
   "metadata": {},
   "outputs": [
    {
     "data": {
      "text/plain": [
       "0.008393320955182004"
      ]
     },
     "execution_count": 71,
     "metadata": {},
     "output_type": "execute_result"
    }
   ],
   "source": [
    "acc_var_logi"
   ]
  },
  {
   "cell_type": "code",
   "execution_count": 49,
   "metadata": {},
   "outputs": [],
   "source": [
    "# We have reched the accuracy of 80.8% with 0.8% variance. Pretty valid model!\n",
    "# Accuracy of test set is 81.1%, which is very close to the training set. No overfitting."
   ]
  },
  {
   "cell_type": "code",
   "execution_count": 52,
   "metadata": {},
   "outputs": [],
   "source": [
    "##### KNN #####"
   ]
  },
  {
   "cell_type": "code",
   "execution_count": 53,
   "metadata": {},
   "outputs": [],
   "source": [
    "from sklearn.neighbors import KNeighborsClassifier"
   ]
  },
  {
   "cell_type": "code",
   "execution_count": 88,
   "metadata": {},
   "outputs": [],
   "source": [
    "numNeighbors = [x for x in range(3, 50) if x % 2 != 0]"
   ]
  },
  {
   "cell_type": "code",
   "execution_count": 102,
   "metadata": {},
   "outputs": [],
   "source": [
    "cv_scores_knn = []"
   ]
  },
  {
   "cell_type": "code",
   "execution_count": 103,
   "metadata": {},
   "outputs": [],
   "source": [
    "for k in numNeighbors:\n",
    "    knn = KNeighborsClassifier(n_neighbors=k)\n",
    "    scores = cross_val_score(knn, X_train, y_train, cv=10, scoring='accuracy')\n",
    "    cv_scores_knn.append(scores)"
   ]
  },
  {
   "cell_type": "code",
   "execution_count": 135,
   "metadata": {},
   "outputs": [
    {
     "data": {
      "text/plain": [
       "{'whiskers': [<matplotlib.lines.Line2D at 0x1a1ba14860>,\n",
       "  <matplotlib.lines.Line2D at 0x1a1ba14cf8>,\n",
       "  <matplotlib.lines.Line2D at 0x1a1b9b6668>,\n",
       "  <matplotlib.lines.Line2D at 0x1a1b9b6a90>,\n",
       "  <matplotlib.lines.Line2D at 0x1a1b9cb400>,\n",
       "  <matplotlib.lines.Line2D at 0x1a1b9cb828>,\n",
       "  <matplotlib.lines.Line2D at 0x1a1b9da198>,\n",
       "  <matplotlib.lines.Line2D at 0x1a1b9da5c0>,\n",
       "  <matplotlib.lines.Line2D at 0x1a1ba38ef0>,\n",
       "  <matplotlib.lines.Line2D at 0x1a1ba44358>,\n",
       "  <matplotlib.lines.Line2D at 0x1a1ba4bc88>,\n",
       "  <matplotlib.lines.Line2D at 0x1a1ba560f0>,\n",
       "  <matplotlib.lines.Line2D at 0x1a1ba5ca20>,\n",
       "  <matplotlib.lines.Line2D at 0x1a1ba5ce48>,\n",
       "  <matplotlib.lines.Line2D at 0x1a1ba6f7b8>,\n",
       "  <matplotlib.lines.Line2D at 0x1a1ba6fbe0>,\n",
       "  <matplotlib.lines.Line2D at 0x1a1b960550>,\n",
       "  <matplotlib.lines.Line2D at 0x1a1b960978>,\n",
       "  <matplotlib.lines.Line2D at 0x1a1b9722e8>,\n",
       "  <matplotlib.lines.Line2D at 0x1a1b972710>,\n",
       "  <matplotlib.lines.Line2D at 0x1a1b983080>,\n",
       "  <matplotlib.lines.Line2D at 0x1a1b9834a8>,\n",
       "  <matplotlib.lines.Line2D at 0x1a1b98cdd8>,\n",
       "  <matplotlib.lines.Line2D at 0x1a1b993240>,\n",
       "  <matplotlib.lines.Line2D at 0x10a2e2b70>,\n",
       "  <matplotlib.lines.Line2D at 0x10a2e2f98>,\n",
       "  <matplotlib.lines.Line2D at 0x10a2f5908>,\n",
       "  <matplotlib.lines.Line2D at 0x10a2f5d30>,\n",
       "  <matplotlib.lines.Line2D at 0x10a3066a0>,\n",
       "  <matplotlib.lines.Line2D at 0x10a306ac8>,\n",
       "  <matplotlib.lines.Line2D at 0x10a318320>,\n",
       "  <matplotlib.lines.Line2D at 0x10a318710>,\n",
       "  <matplotlib.lines.Line2D at 0x1a1ba87ef0>,\n",
       "  <matplotlib.lines.Line2D at 0x1a1ba8f320>,\n",
       "  <matplotlib.lines.Line2D at 0x1a1ba9ab00>,\n",
       "  <matplotlib.lines.Line2D at 0x1a1ba9aef0>,\n",
       "  <matplotlib.lines.Line2D at 0x1a1baad710>,\n",
       "  <matplotlib.lines.Line2D at 0x1a1baadb00>,\n",
       "  <matplotlib.lines.Line2D at 0x1a1bac0320>,\n",
       "  <matplotlib.lines.Line2D at 0x1a1bac0710>,\n",
       "  <matplotlib.lines.Line2D at 0x1a1bac8ef0>,\n",
       "  <matplotlib.lines.Line2D at 0x1a1bace320>,\n",
       "  <matplotlib.lines.Line2D at 0x1a1badcb00>,\n",
       "  <matplotlib.lines.Line2D at 0x1a1badcef0>,\n",
       "  <matplotlib.lines.Line2D at 0x1a1baed710>,\n",
       "  <matplotlib.lines.Line2D at 0x1a1baedb00>,\n",
       "  <matplotlib.lines.Line2D at 0x1a1baff320>,\n",
       "  <matplotlib.lines.Line2D at 0x1a1baff710>],\n",
       " 'caps': [<matplotlib.lines.Line2D at 0x1a1b9b0160>,\n",
       "  <matplotlib.lines.Line2D at 0x1a1b9b0588>,\n",
       "  <matplotlib.lines.Line2D at 0x1a1b9b6eb8>,\n",
       "  <matplotlib.lines.Line2D at 0x1a1b9c2320>,\n",
       "  <matplotlib.lines.Line2D at 0x1a1b9cbc50>,\n",
       "  <matplotlib.lines.Line2D at 0x1a1b9d20b8>,\n",
       "  <matplotlib.lines.Line2D at 0x1a1b9da9e8>,\n",
       "  <matplotlib.lines.Line2D at 0x1a1b9dae10>,\n",
       "  <matplotlib.lines.Line2D at 0x1a1ba44780>,\n",
       "  <matplotlib.lines.Line2D at 0x1a1ba44ba8>,\n",
       "  <matplotlib.lines.Line2D at 0x1a1ba56518>,\n",
       "  <matplotlib.lines.Line2D at 0x1a1ba56940>,\n",
       "  <matplotlib.lines.Line2D at 0x1a1ba672b0>,\n",
       "  <matplotlib.lines.Line2D at 0x1a1ba676d8>,\n",
       "  <matplotlib.lines.Line2D at 0x1a1b956048>,\n",
       "  <matplotlib.lines.Line2D at 0x1a1b956470>,\n",
       "  <matplotlib.lines.Line2D at 0x1a1b960da0>,\n",
       "  <matplotlib.lines.Line2D at 0x1a1b968208>,\n",
       "  <matplotlib.lines.Line2D at 0x1a1b972b38>,\n",
       "  <matplotlib.lines.Line2D at 0x1a1b972f60>,\n",
       "  <matplotlib.lines.Line2D at 0x1a1b9838d0>,\n",
       "  <matplotlib.lines.Line2D at 0x1a1b983cf8>,\n",
       "  <matplotlib.lines.Line2D at 0x1a1b993668>,\n",
       "  <matplotlib.lines.Line2D at 0x1a1b993a90>,\n",
       "  <matplotlib.lines.Line2D at 0x10a2eb400>,\n",
       "  <matplotlib.lines.Line2D at 0x10a2eb828>,\n",
       "  <matplotlib.lines.Line2D at 0x10a2fd198>,\n",
       "  <matplotlib.lines.Line2D at 0x10a2fd5c0>,\n",
       "  <matplotlib.lines.Line2D at 0x10a306ef0>,\n",
       "  <matplotlib.lines.Line2D at 0x10a30f320>,\n",
       "  <matplotlib.lines.Line2D at 0x10a318b00>,\n",
       "  <matplotlib.lines.Line2D at 0x10a318ef0>,\n",
       "  <matplotlib.lines.Line2D at 0x1a1ba8f710>,\n",
       "  <matplotlib.lines.Line2D at 0x1a1ba8fb00>,\n",
       "  <matplotlib.lines.Line2D at 0x1a1baa5320>,\n",
       "  <matplotlib.lines.Line2D at 0x1a1baa5710>,\n",
       "  <matplotlib.lines.Line2D at 0x1a1baadef0>,\n",
       "  <matplotlib.lines.Line2D at 0x1a1bab5320>,\n",
       "  <matplotlib.lines.Line2D at 0x1a1bac0b00>,\n",
       "  <matplotlib.lines.Line2D at 0x1a1bac0ef0>,\n",
       "  <matplotlib.lines.Line2D at 0x1a1bace710>,\n",
       "  <matplotlib.lines.Line2D at 0x1a1baceb00>,\n",
       "  <matplotlib.lines.Line2D at 0x1a1bae4320>,\n",
       "  <matplotlib.lines.Line2D at 0x1a1bae4710>,\n",
       "  <matplotlib.lines.Line2D at 0x1a1baedef0>,\n",
       "  <matplotlib.lines.Line2D at 0x1a1baf5320>,\n",
       "  <matplotlib.lines.Line2D at 0x1a1baffb00>,\n",
       "  <matplotlib.lines.Line2D at 0x1a1baffef0>],\n",
       " 'boxes': [<matplotlib.lines.Line2D at 0x1a1ba14438>,\n",
       "  <matplotlib.lines.Line2D at 0x1a1b9b6208>,\n",
       "  <matplotlib.lines.Line2D at 0x1a1b9c2f60>,\n",
       "  <matplotlib.lines.Line2D at 0x1a1b9d2cf8>,\n",
       "  <matplotlib.lines.Line2D at 0x1a1ba38a90>,\n",
       "  <matplotlib.lines.Line2D at 0x1a1ba4b828>,\n",
       "  <matplotlib.lines.Line2D at 0x1a1ba5c5c0>,\n",
       "  <matplotlib.lines.Line2D at 0x1a1ba6f358>,\n",
       "  <matplotlib.lines.Line2D at 0x1a1b9600f0>,\n",
       "  <matplotlib.lines.Line2D at 0x1a1b968e48>,\n",
       "  <matplotlib.lines.Line2D at 0x1a1b97abe0>,\n",
       "  <matplotlib.lines.Line2D at 0x1a1b98c978>,\n",
       "  <matplotlib.lines.Line2D at 0x10a2e2710>,\n",
       "  <matplotlib.lines.Line2D at 0x10a2f54a8>,\n",
       "  <matplotlib.lines.Line2D at 0x10a306240>,\n",
       "  <matplotlib.lines.Line2D at 0x10a30feb8>,\n",
       "  <matplotlib.lines.Line2D at 0x1a1ba87ac8>,\n",
       "  <matplotlib.lines.Line2D at 0x1a1ba9a6d8>,\n",
       "  <matplotlib.lines.Line2D at 0x1a1baad2e8>,\n",
       "  <matplotlib.lines.Line2D at 0x1a1bab5eb8>,\n",
       "  <matplotlib.lines.Line2D at 0x1a1bac8ac8>,\n",
       "  <matplotlib.lines.Line2D at 0x1a1badc6d8>,\n",
       "  <matplotlib.lines.Line2D at 0x1a1baed2e8>,\n",
       "  <matplotlib.lines.Line2D at 0x1a1baf5eb8>],\n",
       " 'medians': [<matplotlib.lines.Line2D at 0x1a1b9b09b0>,\n",
       "  <matplotlib.lines.Line2D at 0x1a1b9c2748>,\n",
       "  <matplotlib.lines.Line2D at 0x1a1b9d24e0>,\n",
       "  <matplotlib.lines.Line2D at 0x1a1ba38278>,\n",
       "  <matplotlib.lines.Line2D at 0x1a1ba44fd0>,\n",
       "  <matplotlib.lines.Line2D at 0x1a1ba56d68>,\n",
       "  <matplotlib.lines.Line2D at 0x1a1ba67b00>,\n",
       "  <matplotlib.lines.Line2D at 0x1a1b956898>,\n",
       "  <matplotlib.lines.Line2D at 0x1a1b968630>,\n",
       "  <matplotlib.lines.Line2D at 0x1a1b97a3c8>,\n",
       "  <matplotlib.lines.Line2D at 0x1a1b98c160>,\n",
       "  <matplotlib.lines.Line2D at 0x1a1b993eb8>,\n",
       "  <matplotlib.lines.Line2D at 0x10a2ebc50>,\n",
       "  <matplotlib.lines.Line2D at 0x10a2fd9e8>,\n",
       "  <matplotlib.lines.Line2D at 0x10a30f710>,\n",
       "  <matplotlib.lines.Line2D at 0x1a1ba87320>,\n",
       "  <matplotlib.lines.Line2D at 0x1a1ba8fef0>,\n",
       "  <matplotlib.lines.Line2D at 0x1a1baa5b00>,\n",
       "  <matplotlib.lines.Line2D at 0x1a1bab5710>,\n",
       "  <matplotlib.lines.Line2D at 0x1a1bac8320>,\n",
       "  <matplotlib.lines.Line2D at 0x1a1baceef0>,\n",
       "  <matplotlib.lines.Line2D at 0x1a1bae4b00>,\n",
       "  <matplotlib.lines.Line2D at 0x1a1baf5710>,\n",
       "  <matplotlib.lines.Line2D at 0x1a1bb08320>],\n",
       " 'fliers': [<matplotlib.lines.Line2D at 0x1a1b9b0dd8>,\n",
       "  <matplotlib.lines.Line2D at 0x1a1b9c2b70>,\n",
       "  <matplotlib.lines.Line2D at 0x1a1b9d2908>,\n",
       "  <matplotlib.lines.Line2D at 0x1a1ba386a0>,\n",
       "  <matplotlib.lines.Line2D at 0x1a1ba4b438>,\n",
       "  <matplotlib.lines.Line2D at 0x1a1ba5c1d0>,\n",
       "  <matplotlib.lines.Line2D at 0x1a1ba67f28>,\n",
       "  <matplotlib.lines.Line2D at 0x1a1b956cc0>,\n",
       "  <matplotlib.lines.Line2D at 0x1a1b968a58>,\n",
       "  <matplotlib.lines.Line2D at 0x1a1b97a7f0>,\n",
       "  <matplotlib.lines.Line2D at 0x1a1b98c588>,\n",
       "  <matplotlib.lines.Line2D at 0x10a2e2320>,\n",
       "  <matplotlib.lines.Line2D at 0x10a2f50b8>,\n",
       "  <matplotlib.lines.Line2D at 0x10a2fde10>,\n",
       "  <matplotlib.lines.Line2D at 0x10a30fb00>,\n",
       "  <matplotlib.lines.Line2D at 0x1a1ba87710>,\n",
       "  <matplotlib.lines.Line2D at 0x1a1ba9a320>,\n",
       "  <matplotlib.lines.Line2D at 0x1a1baa5ef0>,\n",
       "  <matplotlib.lines.Line2D at 0x1a1bab5b00>,\n",
       "  <matplotlib.lines.Line2D at 0x1a1bac8710>,\n",
       "  <matplotlib.lines.Line2D at 0x1a1badc320>,\n",
       "  <matplotlib.lines.Line2D at 0x1a1bae4ef0>,\n",
       "  <matplotlib.lines.Line2D at 0x1a1baf5b00>,\n",
       "  <matplotlib.lines.Line2D at 0x1a1bb08710>],\n",
       " 'means': []}"
      ]
     },
     "execution_count": 135,
     "metadata": {},
     "output_type": "execute_result"
    },
    {
     "data": {
      "image/png": "[encoded data removed]",
      "text/plain": [
       "<Figure size 720x360 with 1 Axes>"
      ]
     },
     "metadata": {},
     "output_type": "display_data"
    }
   ],
   "source": [
    "plt.figure(figsize=(10,5))\n",
    "plt.boxplot(cv_scores_knn, positions = numNeighbors)"
   ]
  },
  {
   "cell_type": "raw",
   "metadata": {},
   "source": []
  },
  {
   "cell_type": "code",
   "execution_count": 117,
   "metadata": {},
   "outputs": [],
   "source": [
    "# We get the optimal k value: 19\n",
    "acc_mean_knn = cv_scores_knn[8].mean()"
   ]
  },
  {
   "cell_type": "code",
   "execution_count": 118,
   "metadata": {},
   "outputs": [],
   "source": [
    "acc_std_knn = cv_scores_knn[8].std()"
   ]
  },
  {
   "cell_type": "code",
   "execution_count": 119,
   "metadata": {},
   "outputs": [
    {
     "data": {
      "text/plain": [
       "0.8316228630825986"
      ]
     },
     "execution_count": 119,
     "metadata": {},
     "output_type": "execute_result"
    }
   ],
   "source": [
    "acc_mean_knn"
   ]
  },
  {
   "cell_type": "code",
   "execution_count": 120,
   "metadata": {},
   "outputs": [
    {
     "data": {
      "text/plain": [
       "0.006262373711625498"
      ]
     },
     "execution_count": 120,
     "metadata": {},
     "output_type": "execute_result"
    }
   ],
   "source": [
    "acc_std_knn"
   ]
  },
  {
   "cell_type": "code",
   "execution_count": 122,
   "metadata": {},
   "outputs": [],
   "source": [
    "# We have reched the accuracy of 83.2% with 0.62% variance. Valid Model!"
   ]
  },
  {
   "cell_type": "code",
   "execution_count": 128,
   "metadata": {},
   "outputs": [],
   "source": [
    "# Predicting the Test set results\n",
    "classifier_knn = KNeighborsClassifier(n_neighbors=19)\n",
    "classifier_knn.fit(X_train, y_train)\n",
    "y_pred = classifier_knn.predict(X_test)\n"
   ]
  },
  {
   "cell_type": "code",
   "execution_count": 138,
   "metadata": {},
   "outputs": [],
   "source": [
    "# Making the Confusion Matrix\n",
    "cm_knn = confusion_matrix(y_test, y_pred)\n",
    "acc_knn = (cm_knn[0,0] + cm_knn[1,1]) / len(y_test)"
   ]
  },
  {
   "cell_type": "code",
   "execution_count": 139,
   "metadata": {},
   "outputs": [
    {
     "data": {
      "text/plain": [
       "0.846"
      ]
     },
     "execution_count": 139,
     "metadata": {},
     "output_type": "execute_result"
    }
   ],
   "source": [
    "acc_knn"
   ]
  },
  {
   "cell_type": "code",
   "execution_count": 132,
   "metadata": {},
   "outputs": [],
   "source": [
    "# Looks like it's better than Logistic!"
   ]
  },
  {
   "cell_type": "code",
   "execution_count": 136,
   "metadata": {},
   "outputs": [],
   "source": [
    "##### Random Forest #####"
   ]
  },
  {
   "cell_type": "code",
   "execution_count": 137,
   "metadata": {},
   "outputs": [
    {
     "data": {
      "text/plain": [
       "RandomForestClassifier(bootstrap=True, class_weight=None, criterion='entropy',\n",
       "            max_depth=None, max_features='auto', max_leaf_nodes=None,\n",
       "            min_impurity_decrease=0.0, min_impurity_split=None,\n",
       "            min_samples_leaf=1, min_samples_split=2,\n",
       "            min_weight_fraction_leaf=0.0, n_estimators=128, n_jobs=1,\n",
       "            oob_score=False, random_state=0, verbose=0, warm_start=False)"
      ]
     },
     "execution_count": 137,
     "metadata": {},
     "output_type": "execute_result"
    }
   ],
   "source": [
    "# Fitting Random Forest Classification to the Training set\n",
    "# We chose 128 trees as typically more tree means more accuracy.\n",
    "# However, there's an research showing that no significant improvement after 128 trees\n",
    "from sklearn.ensemble import RandomForestClassifier\n",
    "classifier_randomforest = RandomForestClassifier(n_estimators = 128, criterion = 'entropy', random_state = 0)\n",
    "classifier_randomforest.fit(X_train, y_train)"
   ]
  },
  {
   "cell_type": "code",
   "execution_count": 140,
   "metadata": {},
   "outputs": [],
   "source": [
    "# Predicting the Test set results\n",
    "y_pred = classifier_randomforest.predict(X_test)\n",
    "\n",
    "# Making the Confusion Matrix\n",
    "from sklearn.metrics import confusion_matrix\n",
    "cm_randomforest = confusion_matrix(y_test, y_pred)\n",
    "acc_randomforest = (cm_randomforest[0,0] + cm_randomforest[1,1]) / len(y_test)"
   ]
  },
  {
   "cell_type": "code",
   "execution_count": 141,
   "metadata": {},
   "outputs": [
    {
     "data": {
      "text/plain": [
       "0.871"
      ]
     },
     "execution_count": 141,
     "metadata": {},
     "output_type": "execute_result"
    }
   ],
   "source": [
    "acc_randomforest"
   ]
  },
  {
   "cell_type": "code",
   "execution_count": 142,
   "metadata": {},
   "outputs": [],
   "source": [
    "# Cross Validation"
   ]
  },
  {
   "cell_type": "code",
   "execution_count": 143,
   "metadata": {},
   "outputs": [],
   "source": [
    "accuracies_randomforest = cross_val_score(estimator = classifier_randomforest, X = X_train, y = y_train, cv = 10, scoring = 'accuracy')"
   ]
  },
  {
   "cell_type": "code",
   "execution_count": 221,
   "metadata": {},
   "outputs": [],
   "source": [
    "acc_mean_randomforest = accuracies_randomforest.mean()\n",
    "acc_var_randomforest = accuracies_randomforest.std()"
   ]
  },
  {
   "cell_type": "code",
   "execution_count": 145,
   "metadata": {},
   "outputs": [
    {
     "data": {
      "text/plain": [
       "0.8083747220698783"
      ]
     },
     "execution_count": 145,
     "metadata": {},
     "output_type": "execute_result"
    }
   ],
   "source": [
    "acc_mean_randomforest"
   ]
  },
  {
   "cell_type": "code",
   "execution_count": 146,
   "metadata": {},
   "outputs": [
    {
     "data": {
      "text/plain": [
       "0.008393320955182004"
      ]
     },
     "execution_count": 146,
     "metadata": {},
     "output_type": "execute_result"
    }
   ],
   "source": [
    "acc_var_randomforest"
   ]
  },
  {
   "cell_type": "code",
   "execution_count": 147,
   "metadata": {},
   "outputs": [],
   "source": [
    "# We are expecting 80.8% accuracy with 0.8% varaince for test data.\n",
    "# We are really lucky to reach 87.1% accuracy of test set. It's probably because we don;t have enough test set."
   ]
  },
  {
   "cell_type": "code",
   "execution_count": 148,
   "metadata": {},
   "outputs": [],
   "source": [
    "##### XGBOOSTING #####"
   ]
  },
  {
   "cell_type": "code",
   "execution_count": 150,
   "metadata": {},
   "outputs": [
    {
     "name": "stderr",
     "output_type": "stream",
     "text": [
      "/Users/Joy/anaconda3/lib/python3.6/site-packages/sklearn/preprocessing/label.py:151: DeprecationWarning: The truth value of an empty array is ambiguous. Returning False, but in future this will result in an error. Use `array.size > 0` to check that an array is not empty.\n",
      "  if diff:\n"
     ]
    }
   ],
   "source": [
    "from xgboost import XGBClassifier\n",
    "classifier_xgboost = XGBClassifier()\n",
    "classifier_xgboost.fit(X_train, y_train)\n",
    "\n",
    "# Predicting the Test set results\n",
    "y_pred = classifier_xgboost.predict(X_test)\n",
    "\n",
    "# Making the Confusion Matrix\n",
    "from sklearn.metrics import confusion_matrix\n",
    "cm_xgboost = confusion_matrix(y_test, y_pred)\n",
    "acc_xgboost = (cm_xgboost[0,0] + cm_xgboost[1,1]) / len(y_test)"
   ]
  },
  {
   "cell_type": "code",
   "execution_count": 151,
   "metadata": {},
   "outputs": [
    {
     "data": {
      "text/plain": [
       "0.8645"
      ]
     },
     "execution_count": 151,
     "metadata": {},
     "output_type": "execute_result"
    }
   ],
   "source": [
    "acc_xgboost"
   ]
  },
  {
   "cell_type": "code",
   "execution_count": 155,
   "metadata": {},
   "outputs": [
    {
     "name": "stderr",
     "output_type": "stream",
     "text": [
      "/Users/Joy/anaconda3/lib/python3.6/site-packages/sklearn/preprocessing/label.py:151: DeprecationWarning: The truth value of an empty array is ambiguous. Returning False, but in future this will result in an error. Use `array.size > 0` to check that an array is not empty.\n",
      "  if diff:\n",
      "/Users/Joy/anaconda3/lib/python3.6/site-packages/sklearn/preprocessing/label.py:151: DeprecationWarning: The truth value of an empty array is ambiguous. Returning False, but in future this will result in an error. Use `array.size > 0` to check that an array is not empty.\n",
      "  if diff:\n",
      "/Users/Joy/anaconda3/lib/python3.6/site-packages/sklearn/preprocessing/label.py:151: DeprecationWarning: The truth value of an empty array is ambiguous. Returning False, but in future this will result in an error. Use `array.size > 0` to check that an array is not empty.\n",
      "  if diff:\n",
      "/Users/Joy/anaconda3/lib/python3.6/site-packages/sklearn/preprocessing/label.py:151: DeprecationWarning: The truth value of an empty array is ambiguous. Returning False, but in future this will result in an error. Use `array.size > 0` to check that an array is not empty.\n",
      "  if diff:\n",
      "/Users/Joy/anaconda3/lib/python3.6/site-packages/sklearn/preprocessing/label.py:151: DeprecationWarning: The truth value of an empty array is ambiguous. Returning False, but in future this will result in an error. Use `array.size > 0` to check that an array is not empty.\n",
      "  if diff:\n",
      "/Users/Joy/anaconda3/lib/python3.6/site-packages/sklearn/preprocessing/label.py:151: DeprecationWarning: The truth value of an empty array is ambiguous. Returning False, but in future this will result in an error. Use `array.size > 0` to check that an array is not empty.\n",
      "  if diff:\n",
      "/Users/Joy/anaconda3/lib/python3.6/site-packages/sklearn/preprocessing/label.py:151: DeprecationWarning: The truth value of an empty array is ambiguous. Returning False, but in future this will result in an error. Use `array.size > 0` to check that an array is not empty.\n",
      "  if diff:\n",
      "/Users/Joy/anaconda3/lib/python3.6/site-packages/sklearn/preprocessing/label.py:151: DeprecationWarning: The truth value of an empty array is ambiguous. Returning False, but in future this will result in an error. Use `array.size > 0` to check that an array is not empty.\n",
      "  if diff:\n",
      "/Users/Joy/anaconda3/lib/python3.6/site-packages/sklearn/preprocessing/label.py:151: DeprecationWarning: The truth value of an empty array is ambiguous. Returning False, but in future this will result in an error. Use `array.size > 0` to check that an array is not empty.\n",
      "  if diff:\n",
      "/Users/Joy/anaconda3/lib/python3.6/site-packages/sklearn/preprocessing/label.py:151: DeprecationWarning: The truth value of an empty array is ambiguous. Returning False, but in future this will result in an error. Use `array.size > 0` to check that an array is not empty.\n",
      "  if diff:\n"
     ]
    }
   ],
   "source": [
    "accuracies_xgboost = cross_val_score(estimator = classifier_xgboost, X = X_train, y = y_train, cv = 10, scoring = 'accuracy')\n",
    "acc_mean_xgboost = accuracies_xgboost.mean()\n",
    "acc_var_xgboost = accuracies_xgboost.std()"
   ]
  },
  {
   "cell_type": "code",
   "execution_count": 156,
   "metadata": {},
   "outputs": [
    {
     "data": {
      "text/plain": [
       "0.8629994451163204"
      ]
     },
     "execution_count": 156,
     "metadata": {},
     "output_type": "execute_result"
    }
   ],
   "source": [
    "acc_mean_xgboost"
   ]
  },
  {
   "cell_type": "code",
   "execution_count": 157,
   "metadata": {},
   "outputs": [
    {
     "data": {
      "text/plain": [
       "0.010677872171663988"
      ]
     },
     "execution_count": 157,
     "metadata": {},
     "output_type": "execute_result"
    }
   ],
   "source": [
    "acc_var_xgboost"
   ]
  },
  {
   "cell_type": "code",
   "execution_count": 158,
   "metadata": {},
   "outputs": [],
   "source": [
    "# We are expecting 86.3% accuracy with 1.1% varaince for test data.\n",
    "# XGBOOSTING rocks!"
   ]
  },
  {
   "cell_type": "code",
   "execution_count": 159,
   "metadata": {},
   "outputs": [],
   "source": [
    "##### ANN #####\n",
    "##### ANN is performed on keras in tensorflow backend #####"
   ]
  },
  {
   "cell_type": "code",
   "execution_count": 164,
   "metadata": {},
   "outputs": [],
   "source": [
    "import keras\n",
    "from keras.models import Sequential\n",
    "from keras.layers import Dense\n",
    "from keras.layers import Dropout\n",
    "from keras.wrappers.scikit_learn import KerasClassifier\n",
    "from sklearn.model_selection import GridSearchCV"
   ]
  },
  {
   "cell_type": "code",
   "execution_count": 170,
   "metadata": {},
   "outputs": [],
   "source": [
    "def build_classifier(optimizer):\n",
    "    # Initialising the ANN\n",
    "    classifier = Sequential()\n",
    "    \n",
    "    # Adding the input layer and the first hidden layer\n",
    "    classifier.add(Dense(units = 6, kernel_initializer = 'uniform', activation = 'relu', input_dim = 11))\n",
    "    classifier.add(Dropout(p = 0.1))\n",
    "    \n",
    "    # Adding the second hidden layer\n",
    "    classifier.add(Dense(units = 6, kernel_initializer = 'uniform', activation = 'relu'))\n",
    "    classifier.add(Dropout(p = 0.5))\n",
    "    \n",
    "    # Adding the output layer\n",
    "    classifier.add(Dense(units = 1, kernel_initializer = 'uniform', activation = 'sigmoid'))\n",
    "    \n",
    "    # Compiling the ANN\n",
    "    classifier.compile(optimizer = optimizer, loss = 'binary_crossentropy', metrics = ['accuracy'])\n",
    "    return classifier"
   ]
  },
  {
   "cell_type": "code",
   "execution_count": 171,
   "metadata": {},
   "outputs": [],
   "source": [
    "classifier_ann = KerasClassifier(build_fn = build_classifier)\n",
    "parameters = {'batch_size': [32, 64, 128, 256],\n",
    "              'epochs': [100, 500, 1000],\n",
    "              'optimizer': ['adam', 'rmsprop']}\n",
    "grid_search = GridSearchCV(estimator = classifier_ann,\n",
    "                           param_grid = parameters,\n",
    "                           scoring = 'accuracy',\n",
    "                           cv = 10)"
   ]
  },
  {
   "cell_type": "code",
   "execution_count": null,
   "metadata": {},
   "outputs": [
    {
     "name": "stderr",
     "output_type": "stream",
     "text": [
      "/Users/Joy/anaconda3/lib/python3.6/site-packages/ipykernel_launcher.py:7: UserWarning: Update your `Dropout` call to the Keras 2 API: `Dropout(rate=0.1)`\n",
      "  import sys\n",
      "/Users/Joy/anaconda3/lib/python3.6/site-packages/ipykernel_launcher.py:11: UserWarning: Update your `Dropout` call to the Keras 2 API: `Dropout(rate=0.5)`\n",
      "  # This is added back by InteractiveShellApp.init_path()\n"
     ]
    },
    {
     "name": "stdout",
     "output_type": "stream",
     "text": [
      "Epoch 1/100\n"
     ]
    }
   ],
   "source": [
    "##### Warning! Time Consuming step #####\n",
    "grid_search = grid_search.fit(X_train, y_train);"
   ]
  },
  {
   "cell_type": "code",
   "execution_count": 278,
   "metadata": {},
   "outputs": [
    {
     "name": "stderr",
     "output_type": "stream",
     "text": [
      "/Users/Joy/anaconda3/lib/python3.6/site-packages/sklearn/model_selection/_search.py:761: DeprecationWarning: The grid_scores_ attribute was deprecated in version 0.18 in favor of the more elaborate cv_results_ attribute. The grid_scores_ attribute will not be available from 0.20\n",
      "  DeprecationWarning)\n"
     ]
    }
   ],
   "source": [
    "best_parameters = grid_search.best_params_ \n",
    "best_accuracy = grid_search.best_score_ \n",
    "best_std = grid_search.cv_results_['std_test_score'][grid_search.best_index_]\n",
    "accuracies_ann = grid_search.grid_scores_[grid_search.best_index_].cv_validation_scores"
   ]
  },
  {
   "cell_type": "code",
   "execution_count": 184,
   "metadata": {},
   "outputs": [
    {
     "data": {
      "text/plain": [
       "{'batch_size': 128, 'epochs': 100, 'optimizer': 'rmsprop'}"
      ]
     },
     "execution_count": 184,
     "metadata": {},
     "output_type": "execute_result"
    }
   ],
   "source": [
    "best_parameters"
   ]
  },
  {
   "cell_type": "code",
   "execution_count": 185,
   "metadata": {},
   "outputs": [
    {
     "data": {
      "text/plain": [
       "0.8075"
      ]
     },
     "execution_count": 185,
     "metadata": {},
     "output_type": "execute_result"
    }
   ],
   "source": [
    "best_accuracy"
   ]
  },
  {
   "cell_type": "code",
   "execution_count": 186,
   "metadata": {},
   "outputs": [
    {
     "data": {
      "text/plain": [
       "0.025968731197345784"
      ]
     },
     "execution_count": 186,
     "metadata": {},
     "output_type": "execute_result"
    }
   ],
   "source": [
    "best_std"
   ]
  },
  {
   "cell_type": "code",
   "execution_count": 275,
   "metadata": {},
   "outputs": [],
   "source": [
    "##### Conclusion #####\n",
    "df =np.asarray([accuracies_logi, cv_scores_knn[8], accuracies_randomforest, accuracies_xgboost, accuracies_ann]).T"
   ]
  },
  {
   "cell_type": "code",
   "execution_count": 276,
   "metadata": {},
   "outputs": [],
   "source": [
    "df = pd.DataFrame(df)"
   ]
  },
  {
   "cell_type": "code",
   "execution_count": 277,
   "metadata": {},
   "outputs": [
    {
     "data": {
      "text/plain": [
       "[Text(0,0,'logi'),\n",
       " Text(0,0,'knn'),\n",
       " Text(0,0,'randomforest'),\n",
       " Text(0,0,'xgboost'),\n",
       " Text(0,0,'ann')]"
      ]
     },
     "execution_count": 277,
     "metadata": {},
     "output_type": "execute_result"
    },
    {
     "data": {
      "image/png": "[encoded data removed]",
      "text/plain": [
       "<Figure size 432x288 with 1 Axes>"
      ]
     },
     "metadata": {},
     "output_type": "display_data"
    }
   ],
   "source": [
    "g = sns.boxplot(data=df)\n",
    "g.set_xticklabels([\"logi\", \"knn\", \"randomforest\", \"xgboost\", \"ann\"])"
   ]
  },
  {
   "cell_type": "code",
   "execution_count": null,
   "metadata": {},
   "outputs": [],
   "source": [
    "##### Conclusion #####"
   ]
  },
  {
   "cell_type": "code",
   "execution_count": null,
   "metadata": {},
   "outputs": [],
   "source": [
    "##### Not recommending ANN, it's extremely time consuming and not that good for this problem\n",
    "##### It's performance is even worse than the simple logistic regression, which suggested that the data probably has high linearity.\n",
    "##### XGBoost (Boosting method) rocks for structured data, fast and accurate\n",
    "##### Randomforest (Bagging method) is not bad either"
   ]
  },
  {
   "cell_type": "code",
   "execution_count": null,
   "metadata": {},
   "outputs": [],
   "source": []
  }
 ],
 "metadata": {
  "kernelspec": {
   "display_name": "Python 3",
   "language": "python",
   "name": "python3"
  },
  "language_info": {
   "codemirror_mode": {
    "name": "ipython",
    "version": 3
   },
   "file_extension": ".py",
   "mimetype": "text/x-python",
   "name": "python",
   "nbconvert_exporter": "python",
   "pygments_lexer": "ipython3",
   "version": "3.6.5"
  }
 },
 "nbformat": 4,
 "nbformat_minor": 2
}
